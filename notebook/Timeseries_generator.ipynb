{
  "nbformat": 4,
  "nbformat_minor": 0,
  "metadata": {
    "colab": {
      "provenance": []
    },
    "kernelspec": {
      "name": "python3",
      "display_name": "Python 3"
    },
    "language_info": {
      "name": "python"
    }
  },
  "cells": [
    {
      "cell_type": "code",
      "execution_count": 10,
      "metadata": {
        "colab": {
          "base_uri": "https://localhost:8080/"
        },
        "id": "FbrpMWk1CdvH",
        "outputId": "0683bcbd-cfd7-43a1-d6e8-faf911b52a37"
      },
      "outputs": [
        {
          "output_type": "stream",
          "name": "stdout",
          "text": [
            "   Timestamp  Acceleration_rms  Battery_voltage  Speed\n",
            "0   0.000000          0.099343        14.012522    0.0\n",
            "1   0.050042          0.003784        13.954557    0.0\n",
            "2   0.100083          0.192381        14.007226    0.0\n",
            "3   0.150125          0.398793        14.046824    0.0\n",
            "4   0.200167          0.078607        13.994878    0.0\n"
          ]
        }
      ],
      "source": [
        "import pandas as pd\n",
        "import numpy as np\n",
        "\n",
        "n_samples = 1200    #number of samples for 60 seconds at 20 Hz\n",
        "sampling_rate = 20  # Hz (samples per second)\n",
        "duration_seconds = 60  #duration of the signal\n",
        "\n",
        "#time from 0 to 60 seconds\n",
        "timestamp = np.linspace(0, duration_seconds, n_samples)\n",
        "\n",
        "#simulate vibration (acceleration rms), battery voltage, and speed\n",
        "#acceleration RMS as a sine wave with random noise (simulating engine vibration)\n",
        "acc_rms = np.abs(np.sin(2 * np.pi * 0.1 * timestamp) + np.random.normal(0, 0.2, n_samples))\n",
        "\n",
        "#battery voltage as a decreasing signal with random fluctuations\n",
        "battery_voltage = 14.0 + np.random.normal(0, 0.1, n_samples) - 0.05 * timestamp\n",
        "\n",
        "#speed as a step function changing between 0 and 60 km/h\n",
        "speed = np.piecewise(timestamp, [timestamp < 20, (timestamp >= 20) & (timestamp < 40), timestamp >= 40], [0, 30, 60])\n",
        "\n",
        "# Vehicle states (active, idle, off) based on the speed\n",
        "#states = np.piecewise(timestamp, [timestamp < 20, (timestamp >= 20) & (timestamp < 40), timestamp >= 40], ['Off', 'Idle', 'Active'])\n",
        "\n",
        "np.random.seed(42)\n",
        "df = pd.DataFrame({\n",
        "    'Timestamp': timestamp,\n",
        "    'Acceleration_rms': acc_rms,\n",
        "    'Battery_voltage': battery_voltage,\n",
        "    'Speed': speed\n",
        "})\n",
        "\n",
        "print(df.head())               #unlabeled data\n",
        "df.to_csv('Sample.csv', index = False)"
      ]
    },
    {
      "cell_type": "code",
      "source": [],
      "metadata": {
        "id": "MRxkOOWOC1ul"
      },
      "execution_count": null,
      "outputs": []
    }
  ]
}