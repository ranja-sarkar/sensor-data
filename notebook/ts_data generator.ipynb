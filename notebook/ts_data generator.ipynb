
import pandas as pd
import numpy as np

n_samples = 1200  #number of samples for 60 seconds at 20 Hz
sampling_rate = 20  #Hz (samples per second)
duration_seconds = 60  #duration of the signal

#time from 0 to 60 seconds
timestamp = np.linspace(0, duration_seconds, n_samples)

#simulate vibration (acceleration rms), battery voltage, and speed
#ccceleration RMS as a sine wave with random noise (simulating engine vibration)
acc_rms = np.abs(np.sin(2 * np.pi * 0.1 * timestamp) + np.random.normal(0, 0.2, n_samples))

#battery voltage as a decreasing signal with random fluctuations
battery_voltage = 14.0 + np.random.normal(0, 0.1, n_samples) - 0.05 * timestamp

#Speed as a step function changing between 0 and 60 km/h
speed = np.piecewise(timestamp, [timestamp < 20, (timestamp >= 20) & (timestamp < 40), timestamp >= 40], [0, 30, 60])

#vehicle states (active, idle, off) based on the speed
#states = np.piecewise(timestamp, [timestamp < 20, (timestamp >= 20) & (timestamp < 40), timestamp >= 40], ['Off', 'Idle', 'Active'])

np.random.seed(42)
df = pd.DataFrame({
    'Timestamp': timestamp,
    'Acceleration_rms': acc_rms,
    'Battery_voltage': battery_voltage,
    'Speed': speed
})

df.head()  #unlabeled data
df.to_csv('Sample.csv', index = False)
